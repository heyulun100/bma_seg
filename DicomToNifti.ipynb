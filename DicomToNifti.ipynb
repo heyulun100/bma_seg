{
 "cells": [
  {
   "cell_type": "markdown",
   "id": "ff22793e",
   "metadata": {},
   "source": [
    "# Creating nifti files\n",
    "## For an indepth explanation on the creation of nifti files from DICOM images and RT-Structure files, please refer to our tutorial https://doi.org/10.1016/j.prro.2021.02.003"
   ]
  },
  {
   "cell_type": "markdown",
   "id": "e59eba67",
   "metadata": {},
   "source": [
    "### Set dicom path, nifti path, description, and excel_doc"
   ]
  },
  {
   "cell_type": "code",
   "execution_count": null,
   "id": "4e78163a",
   "metadata": {},
   "outputs": [],
   "source": [
    "import os\n",
    "dicom_path = r'H:\\Deeplearning_Recurrence_Work\\Dicom_Exports'\n",
    "nifti_path = r'H:\\Nifti_exports'"
   ]
  },
  {
   "cell_type": "markdown",
   "id": "b0716212",
   "metadata": {},
   "source": [
    "### Identify all rois present in the scan"
   ]
  },
  {
   "cell_type": "code",
   "execution_count": null,
   "id": "84cec249",
   "metadata": {},
   "outputs": [],
   "source": [
    "from Base_Deeplearning_Code.Dicom_RT_and_Images_to_Mask.src.DicomRTTool import DicomReaderWriter\n",
    "reader = DicomReaderWriter(verbose=False)"
   ]
  },
  {
   "cell_type": "code",
   "execution_count": null,
   "id": "0a85f6af",
   "metadata": {
    "scrolled": true
   },
   "outputs": [],
   "source": [
    "reader.walk_through_folders(input_path=dicom_path)"
   ]
  },
  {
   "cell_type": "code",
   "execution_count": null,
   "id": "b9aa7dc5",
   "metadata": {},
   "outputs": [],
   "source": [
    "rois = reader.return_rois(print_rois=True)"
   ]
  },
  {
   "cell_type": "markdown",
   "id": "361f7687",
   "metadata": {},
   "source": [
    "### Set contour names and associations"
   ]
  },
  {
   "cell_type": "code",
   "execution_count": null,
   "id": "9b1a4570",
   "metadata": {},
   "outputs": [],
   "source": [
    "Contour_Names = ['liver']\n",
    "associations = {'liver_bma_program_4': 'liver'}\n",
    "reader.set_contour_names_and_associations(Contour_Names=Contour_Names, associations=associations)"
   ]
  },
  {
   "cell_type": "markdown",
   "id": "dbfd6fd6",
   "metadata": {},
   "source": [
    "### See where we are lacking contours"
   ]
  },
  {
   "cell_type": "code",
   "execution_count": null,
   "id": "28b29cfb",
   "metadata": {
    "scrolled": true
   },
   "outputs": [],
   "source": [
    "reader.which_indexes_lack_all_rois()"
   ]
  },
  {
   "cell_type": "markdown",
   "id": "cfa9039d",
   "metadata": {},
   "source": [
    "### Convert DICOM to nifti"
   ]
  },
  {
   "cell_type": "code",
   "execution_count": null,
   "id": "42afa814",
   "metadata": {},
   "outputs": [],
   "source": [
    "description = 'Test'\n",
    "excel_path = os.path.join('.', 'Patient_Distribution.xlsx')\n",
    "reader.__set_description__(description=description)"
   ]
  },
  {
   "cell_type": "code",
   "execution_count": null,
   "id": "05a9ff30",
   "metadata": {},
   "outputs": [],
   "source": [
    "reader.write_parallel(out_path=nifti_path, excel_file=excel_path)"
   ]
  }
 ],
 "metadata": {
  "kernelspec": {
   "display_name": "Python 3",
   "language": "python",
   "name": "python3"
  },
  "language_info": {
   "codemirror_mode": {
    "name": "ipython",
    "version": 3
   },
   "file_extension": ".py",
   "mimetype": "text/x-python",
   "name": "python",
   "nbconvert_exporter": "python",
   "pygments_lexer": "ipython3",
   "version": "3.6.5"
  }
 },
 "nbformat": 4,
 "nbformat_minor": 5
}
